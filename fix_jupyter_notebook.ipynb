{
 "cells": [
  {
   "cell_type": "code",
   "execution_count": 4,
   "metadata": {},
   "outputs": [],
   "source": [
    "import json\n",
    "\n",
    "video_cell = {\n",
    "    \"cell_type\": \"code\",\n",
    "    \"metadata\": {\n",
    "        \"tags\": [\n",
    "            \"remove-cell\"\n",
    "        ]\n",
    "    },\n",
    "    \"outputs\": [],\n",
    "    \"source\": [\n",
    "        \"%%HTML\\n\",\n",
    "        \"<iframe width=\\\"560\\\" height=\\\"315\\\" src=\\\"https://www.youtube.com/embed/kNDD445vz5M?rel=0&amp;controls=1&amp;showinfo=0\\\" frameborder=\\\"0\\\" allowfullscreen></iframe>\"\n",
    "    ]\n",
    "}\n",
    "\n",
    "def fix_notebook(source_notebook, target_notebook):\n",
    "    file = open(source_notebook)\n",
    "    contents = json.load(file)\n",
    "    content = contents['cells'][0]['source']\n",
    "    if type(content) == list:\n",
    "        content_filtered = list(filter(lambda e: e != '\\n', content))\n",
    "        cell_first = content_filtered[:2]\n",
    "        cell_last = []\n",
    "        for e in content_filtered[2:]:\n",
    "            ele = None\n",
    "            if e.startswith('  '):\n",
    "                ele = e[2:] + '\\n'\n",
    "            else:\n",
    "                ele = e + '\\n'\n",
    "            cell_last.append(ele)\n",
    "\n",
    "        contents['cells'][0]['source'] = cell_first\n",
    "        contents['cells'].append(video_cell)\n",
    "        contents['cells'].append({\n",
    "            'cell_type': 'markdown',\n",
    "            'metadata': {},\n",
    "            'source': cell_last\n",
    "        })\n",
    "    elif type(content) == str:\n",
    "        content_splitted = content.splitlines()\n",
    "        content_filtered = list(filter(lambda e: e != '', content_splitted))\n",
    "        cell_first = [e + '\\n' for e in content_filtered[:2]]\n",
    "        cell_last = []\n",
    "        for e in content_filtered[2:]:\n",
    "            ele = None\n",
    "            if e.startswith('  '):\n",
    "                ele = e[2:] + '\\n'\n",
    "            else:\n",
    "                ele = e + '\\n'\n",
    "            cell_last.append(ele)\n",
    "\n",
    "        contents['cells'][0]['source'] = cell_first\n",
    "        contents['cells'].append(video_cell)\n",
    "        contents['cells'].append({\n",
    "            'cell_type': 'markdown',\n",
    "            'metadata': {},\n",
    "            'source': cell_last\n",
    "        })\n",
    "    else:\n",
    "        raise Exception('source cell is not of type list')\n",
    "\n",
    "    target_file = open(target_notebook, 'w')\n",
    "    json.dump(contents, target_file)\n",
    "    target_file.close()"
   ]
  },
  {
   "cell_type": "code",
   "execution_count": 5,
   "metadata": {},
   "outputs": [],
   "source": [
    "import glob\n",
    "for file in glob.glob('03_files_directories_and_http_service/*.ipynb'):\n",
    "    source_notebook = file\n",
    "    target_notebook = file.split('/')[1]\n",
    "    fix_notebook(source_notebook, target_notebook)"
   ]
  },
  {
   "cell_type": "code",
   "execution_count": null,
   "metadata": {},
   "outputs": [],
   "source": []
  }
 ],
 "metadata": {
  "kernelspec": {
   "display_name": "Python 3",
   "language": "python",
   "name": "python3"
  },
  "language_info": {
   "codemirror_mode": {
    "name": "ipython",
    "version": 3
   },
   "file_extension": ".py",
   "mimetype": "text/x-python",
   "name": "python",
   "nbconvert_exporter": "python",
   "pygments_lexer": "ipython3",
   "version": "3.6.12"
  }
 },
 "nbformat": 4,
 "nbformat_minor": 4
}
