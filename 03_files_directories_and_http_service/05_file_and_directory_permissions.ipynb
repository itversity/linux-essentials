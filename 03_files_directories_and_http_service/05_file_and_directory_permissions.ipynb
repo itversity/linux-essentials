{
 "cells": [
  {
   "cell_type": "markdown",
   "metadata": {},
   "source": [
    "## File and Directory Permissions\n",
    "Let us go through the permissions over files and directories.\n"
   ]
  },
  {
   "cell_type": "code",
   "execution_count": 1,
   "metadata": {
    "tags": [
     "remove-cell"
    ]
   },
   "outputs": [
    {
     "data": {
      "text/html": [
       "<iframe width=\"560\" height=\"315\" src=\"https://www.youtube.com/embed/hytP_X_gFLs?rel=0&amp;controls=1&amp;showinfo=0\" frameborder=\"0\" allowfullscreen></iframe>\n"
      ],
      "text/plain": [
       "<IPython.core.display.HTML object>"
      ]
     },
     "metadata": {},
     "output_type": "display_data"
    }
   ],
   "source": [
    "%%HTML\n",
    "<iframe width=\"560\" height=\"315\" src=\"https://www.youtube.com/embed/hytP_X_gFLs?rel=0&amp;controls=1&amp;showinfo=0\" frameborder=\"0\" allowfullscreen></iframe>"
   ]
  },
  {
   "cell_type": "markdown",
   "metadata": {},
   "source": [
    "* ls -ltr gives the properties of files such as permissions, file size and name. \n",
    "* The file permissions are represented in binary format. The first letter n the permission describes whether it is a file or directory.\n",
    "* For directory it is represented with d for file it is blank.\n",
    "* Id <username> gives the uid and the default group for that user. \n",
    "* We can even change the owner of the directory or file. But it is mostly done by admins.\n",
    "* To change the owner of a file we use chown and to change the group of a file chgrp . \n",
    "* To change the permissions on a file or directory we use chmod . \n",
    "* To disable the execute permissions for owners group and others on a file or directories we use -x or 644 \n",
    "```shell\n",
    "chmod 644 testingdir\n",
    "```\n",
    "* To grant execute permissions for all we use +x or 744 which means only owner has the execute permissions. \n",
    "```shell\n",
    "chmod 744 testingdir\n",
    "```"
   ]
  },
  {
   "cell_type": "code",
   "execution_count": null,
   "metadata": {},
   "outputs": [],
   "source": []
  }
 ],
 "metadata": {
  "kernelspec": {
   "display_name": "Python 3",
   "language": "python",
   "name": "python3"
  },
  "language_info": {
   "codemirror_mode": {
    "name": "ipython",
    "version": 3
   },
   "file_extension": ".py",
   "mimetype": "text/x-python",
   "name": "python",
   "nbconvert_exporter": "python",
   "pygments_lexer": "ipython3",
   "version": "3.6.12"
  }
 },
 "nbformat": 4,
 "nbformat_minor": 4
}
