{
 "cells": [
  {
   "cell_type": "markdown",
   "metadata": {},
   "source": [
    "## Managing Directories\n",
    "Let us see how we can manage directories in Linux.\n",
    "\n",
    "* we can create the directories using `mkdir` command. ls and find commands are used to read the contents of the directories - `mkdir testdir`\n",
    "* To create multiple directories in one shot, use the mkdir command followed by the list of directories separated by space delimiter - `mkdir testdir1 testdir2 testdir3`\n",
    "* If we want to delete the directories recursively use `rm -r` command which deletes the files and then the directory. \n",
    "* If there are files in the directory, then use `rm -rf` by which we are forcefully removing the files in the directory. \n",
    "* We can also create multiple directories with naming convention by using patterns option with mkdir - `mkdir testdir{00.09}`\n",
    "* We can create a directory from an environment variable or the output of a command.\n",
    "```shell\n",
    "mkdir testdir_$USER\n",
    "mkdir testdir_`whoami`\n",
    "```\n",
    "* `ls` command gives the list of files in ascending order by the name of the file. \n",
    "  * `ls -l` command list the files with all the details of file such as permissions, owner, group, and timestamp. \n",
    "* Control arguments control the behavior of the command. \n",
    "  * `ls -lt` sorts all the files in descending order based on the timestamp. (t is for timestamp) \n",
    "  * `ls -ltr` sorts all the files in ascending order based on the timestamp. (r is for reverse) \n",
    "  * `ls -lr` sorts all the files in descending order by file name. \n",
    "* find command retrieves all the files and directories that are available in the given path path. Ex: `find .`\n",
    "* There are control arguments like -type, -name and -mtime that can be supplied to find which retrieves the files based on name and timestamp. Ex: `find . -name “*.log” -mtime -1` \n",
    "* find command has different control arguments like -name => to search the files based on name (we can give even patters as well) -type => to check for directories(d) , softlinks (l) and files (f) -mtime => mtime is modified time. We can use this to get the files that are modified in last 24 hours. -print => to print the o/p on screen. \n",
    "* `find ~ -name` retrieves all the files in home directory. Internally the command is ran as `find ~ -name “*” -print`\n",
    "* If we want to get all the files with tar extension\n",
    "```shell\n",
    "find ~ -name “*.tar”\n",
    "find ~ -name “*” -type d # retrieves all the directories.\n",
    "```\n",
    "* If we want to get all the properties about the file use -exec control argument.\n",
    "```shell\n",
    "find ~ -name “*” -exec ls-ltr {} \\;\n",
    "```\n",
    "* On the find o/p if we want to run some other command then use -exec . \n",
    "* To get all the directories with all the properties details use -type control argument. \n",
    "```shell\n",
    "find ~ -name “*” -type d -exec ls -ltr {} \\;\n",
    "```\n",
    "* To get all the directories that are modified in last 24 hours use the below command.\n",
    "```shell\n",
    "find ~ -name “*” -type d -mtime -1 -exec ls-ltr {} \\;\n",
    "```\n",
    "* To get all the files that are modified older than 24 hours. Use the below command.\n",
    "```shell\n",
    "find ~ -name “*” -type d -mtime +1 -exec ls-ltr {} \\;\n",
    "```\n",
    "* We can even get all the files with .log extension in a directory using a pattern.\n",
    "```\n",
    "find ~ -name “*.log” -mtime -1 -exec ls-ltr {} \\;\n",
    "```\n",
    "* `rsync` is used to copy data from local to server machine and vice versa. To run rsync we need to have access to remote server and cgywin or windows subsystem for Linux installed on local machine.Ex: `rsync -avz <local_path> <username@hostname>:~`\n"
   ]
  }
 ],
 "metadata": {
  "kernelspec": {
   "display_name": "Python 3",
   "language": "python",
   "name": "python3"
  },
  "language_info": {
   "codemirror_mode": {
    "name": "ipython",
    "version": 3
   },
   "file_extension": ".py",
   "mimetype": "text/x-python",
   "name": "python",
   "nbconvert_exporter": "python",
   "pygments_lexer": "ipython3",
   "version": "3.6.12"
  }
 },
 "nbformat": 4,
 "nbformat_minor": 4
}
