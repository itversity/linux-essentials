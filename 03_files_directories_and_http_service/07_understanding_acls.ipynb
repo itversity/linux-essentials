{
 "cells": [
  {
   "cell_type": "markdown",
   "metadata": {},
   "source": [
    "## Understanding ACLs\n",
    "While regular permissions can be divided between user/owner, group and others if we want to control access at more granular level, then we need to fall back on ACLs. Let us go through details related to ACLs.\n"
   ]
  },
  {
   "cell_type": "code",
   "execution_count": 1,
   "metadata": {
    "tags": [
     "remove-cell"
    ]
   },
   "outputs": [
    {
     "data": {
      "text/html": [
       "<iframe width=\"560\" height=\"315\" src=\"https://www.youtube.com/embed/ZFNkEpSX2dU?rel=0&amp;controls=1&amp;showinfo=0\" frameborder=\"0\" allowfullscreen></iframe>\n"
      ],
      "text/plain": [
       "<IPython.core.display.HTML object>"
      ]
     },
     "metadata": {},
     "output_type": "display_data"
    }
   ],
   "source": [
    "%%HTML\n",
    "<iframe width=\"560\" height=\"315\" src=\"https://www.youtube.com/embed/ZFNkEpSX2dU?rel=0&amp;controls=1&amp;showinfo=0\" frameborder=\"0\" allowfullscreen></iframe>"
   ]
  },
  {
   "cell_type": "markdown",
   "metadata": {},
   "source": [
    "By default, the permissions of file are associated with owner, other members in the default group of the owner and others.\n",
    "* To give control access to groups or other members of group or different group we need to use ACL.\n",
    "* To get ACL we run a command called getfacl. It gives the permissions or ACL related details for a file we use it. \n",
    "* `getfacl derby.log` gives the details about the permissions on the file for user, group and other. \n",
    "* If we want to use acl and give permission on a file to a user or a group, then use a command called setfacl\n",
    "```shell\n",
    "setfacl -m user:<username>:rw derby.log\n",
    "```\n",
    "* For removing acl we need to use -b option. \n",
    "```shell\n",
    "setfacl -b derby.log\n",
    "```\n",
    "* `getfacl --help` to get all the control arguments for it.\n",
    "* `ls -lhtr` displays the list of files in human readable format.\n",
    "* `grep` command is used to filter content form the file. \n",
    "* The syntax for grep command is `grep [OPTIONS] \"pattern\" <file_name>` Ex: `grep \"os\" derby.log`\n",
    "* `grep -v \"os\" derby.log` gives all the lines that does not have os word. \n",
    "* To sort data, we use sort command. To get unique records we use uniq command. \n"
   ]
  },
  {
   "cell_type": "code",
   "execution_count": null,
   "metadata": {},
   "outputs": [],
   "source": []
  }
 ],
 "metadata": {
  "kernelspec": {
   "display_name": "Python 3",
   "language": "python",
   "name": "python3"
  },
  "language_info": {
   "codemirror_mode": {
    "name": "ipython",
    "version": 3
   },
   "file_extension": ".py",
   "mimetype": "text/x-python",
   "name": "python",
   "nbconvert_exporter": "python",
   "pygments_lexer": "ipython3",
   "version": "3.6.12"
  }
 },
 "nbformat": 4,
 "nbformat_minor": 4
}
