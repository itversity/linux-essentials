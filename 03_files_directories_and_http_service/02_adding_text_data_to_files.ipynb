{
 "cells": [
  {
   "cell_type": "markdown",
   "metadata": {},
   "source": [
    "## Adding text data to files\n",
    "Let us see how we can generate data using cat and by redirecting it into files.\n"
   ]
  },
  {
   "cell_type": "code",
   "execution_count": 1,
   "metadata": {
    "tags": [
     "remove-cell"
    ]
   },
   "outputs": [
    {
     "data": {
      "text/html": [
       "<iframe width=\"560\" height=\"315\" src=\"https://www.youtube.com/embed/vXNe5VJlkec?rel=0&amp;controls=1&amp;showinfo=0\" frameborder=\"0\" allowfullscreen></iframe>\n"
      ],
      "text/plain": [
       "<IPython.core.display.HTML object>"
      ]
     },
     "metadata": {},
     "output_type": "display_data"
    }
   ],
   "source": [
    "%%HTML\n",
    "<iframe width=\"560\" height=\"315\" src=\"https://www.youtube.com/embed/vXNe5VJlkec?rel=0&amp;controls=1&amp;showinfo=0\" frameborder=\"0\" allowfullscreen></iframe>"
   ]
  },
  {
   "cell_type": "markdown",
   "metadata": {},
   "source": [
    "We can use cat command to append or redirect the output to a file. We can create a file using `cat > <filename>` ex: `cat > test2`.\n",
    "\n",
    "We can also redirect the standard output of a file into a new file or an existing file with ‘>’. For an existing file the contents of the file will be overridden. We can even append the contents of a file to the end of an existing file using ‘>>’. Another way to create a file is using vi or nano. \n",
    "\n",
    "To see the contents of files we can use `cat` command. We can also use editors such as `vi` or `nano` to see the contents of the file and update the file. There is a command called `view` to open the file in read-only mode. To troubleshoot the issues, it is recommended to open the file using view command. \n",
    "\n",
    "* `head` command – If the file size is large, we can use the head command to get the structure of the data.\n",
    "`head -10 <filename>` gives the first 10 lines of the file.\n",
    "* tail command – To get the last few lines of the file we can use tail command.\n",
    "`tail -10 <filename>` gives the last 10 lines of the file.\n",
    "* `tail -f <filename>` is predominantly used for troubleshooting issues.\n",
    "* `view` command – opens the file in editor and we can navigate through the file whereas cat prints the output to console. eg: `view <filename>`\n",
    "* cp command is used to copy the files. eg: `cp <source> <target>`\n",
    "* `-p` is a control argument that can be supplied to cp which preserves the timestamp, owners, and permissions of a file. When we use `cp -p` the file is copied with the source file properties (timestamp, owners, and permissions) instead of using the default. \n",
    "* `mv` command – Instead of copying the file from source to target we can even move the file using the mv command. Move command works faster than copy.\n",
    "* `rm` command – We can delete the files by using rm command.\n",
    "* (interactive) is a control argument that can be supplied with rm and mv command which prompts whether to delete or move a file. eg: `rm -i derby.log.copy`\n",
    "* Relative Path: A relative path is a path relative to the current location. Since most users do not want to see the full path as their prompt, by default the prompt is relative to their personal directory. The fully qualified path contains the full path starting from the root file. A relative path can be represented in multiple ways. \n",
    "  * ./derby.log or derby.log (. is an alias for the current directory)\n",
    "* Fully qualified path: A fully qualified path starts with root file system which is `/`. Here is an example - **/home/training/derby.log**\n",
    "* It is recommended to use a fully qualified path."
   ]
  },
  {
   "cell_type": "code",
   "execution_count": null,
   "metadata": {},
   "outputs": [],
   "source": []
  }
 ],
 "metadata": {
  "kernelspec": {
   "display_name": "Python 3",
   "language": "python",
   "name": "python3"
  },
  "language_info": {
   "codemirror_mode": {
    "name": "ipython",
    "version": 3
   },
   "file_extension": ".py",
   "mimetype": "text/x-python",
   "name": "python",
   "nbconvert_exporter": "python",
   "pygments_lexer": "ipython3",
   "version": "3.6.12"
  }
 },
 "nbformat": 4,
 "nbformat_minor": 4
}
