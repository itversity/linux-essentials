{
 "cells": [
  {
   "cell_type": "markdown",
   "metadata": {},
   "source": [
    "## Physical Machine vs. Virtual Machine\n",
    "\n",
    "As Hardware configurations evolved, Enterprise Infrastructure such as Servers, Network Switches, Storage becomes extremely powerful. It is not practical to have one application running on one physical server. To use resources more efficiently Virtualization came into the picture. Let us understand the differences between Physical Machine vs. Virtual Machine briefly."
   ]
  },
  {
   "cell_type": "code",
   "execution_count": null,
   "metadata": {
    "tags": [
     "remove-cell"
    ]
   },
   "outputs": [],
   "source": [
    "%%HTML\n",
    "<iframe width=\"560\" height=\"315\" src=\"https://www.youtube.com/embed/kNDD445vz5M?rel=0&amp;controls=1&amp;showinfo=0\" frameborder=\"0\" allowfullscreen></iframe>"
   ]
  },
  {
   "cell_type": "markdown",
   "metadata": {},
   "source": [
    "* The physical machine itself contains all the resources such as CPU, Memory, Storage etc and each of them will take some real estate.\n",
    "* Deploying applications on powerful physical machines directly will become quite expensive as resources will not be used efficiently. \n",
    "* We can create several Virtual Machines from one Physical Machine. We can isolate applications and run on different virtual machines with limited Real Estate.\n",
    "* We can easily manage them as resources are pooled and the Virtualization or Cloud provide High Availability and Fault Tolerance of the Virtual Machines.\n",
    "* EC2 or a Virtual Machine running on a data center which built using physical machines."
   ]
  }
 ],
 "metadata": {
  "kernelspec": {
   "display_name": "Python 3",
   "language": "python",
   "name": "python3"
  },
  "language_info": {
   "codemirror_mode": {
    "name": "ipython",
    "version": 3
   },
   "file_extension": ".py",
   "mimetype": "text/x-python",
   "name": "python",
   "nbconvert_exporter": "python",
   "pygments_lexer": "ipython3",
   "version": "3.6.12"
  }
 },
 "nbformat": 4,
 "nbformat_minor": 4
}
