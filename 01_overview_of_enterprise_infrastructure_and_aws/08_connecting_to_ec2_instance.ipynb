{
 "cells": [
  {
   "cell_type": "markdown",
   "metadata": {},
   "source": [
    "## Connecting to EC2 Instance\n",
    "\n",
    "Once we provision Virtual Machine or EC2 Instance from AWS, we might have to connect to use it for deploying applications. As part of this topic, we will see how we can connect to EC2 instance using SSH."
   ]
  },
  {
   "cell_type": "code",
   "execution_count": 1,
   "metadata": {
    "tags": [
     "remove-cell"
    ]
   },
   "outputs": [
    {
     "data": {
      "text/html": [
       "<iframe width=\"560\" height=\"315\" src=\"https://www.youtube.com/embed/4j597cxJ0Lg?rel=0&amp;controls=1&amp;showinfo=0\" frameborder=\"0\" allowfullscreen></iframe>\n"
      ],
      "text/plain": [
       "<IPython.core.display.HTML object>"
      ]
     },
     "metadata": {},
     "output_type": "display_data"
    }
   ],
   "source": [
    "%%HTML\n",
    "<iframe width=\"560\" height=\"315\" src=\"https://www.youtube.com/embed/4j597cxJ0Lg?rel=0&amp;controls=1&amp;showinfo=0\" frameborder=\"0\" allowfullscreen></iframe>"
   ]
  },
  {
   "cell_type": "markdown",
   "metadata": {},
   "source": [
    "Remove if extensions are with the downloaded pem file(key pair) and copy it to your preferred location.\n",
    "\n",
    "After copying make sure to check and if needed change the permissions on the pem file. eg `chmod 600 ~/pemfile`\n",
    "\n",
    "If you are using windows you can use Cygwin, putty or windows subsystem for Linux or any ssh client to connect ec2 instance using the Pem file(key pair). It is good to setup windows subsystem for Linux or Cygwin on your system to connect any Linux based remote machine.\n",
    "\n",
    "You can use either public IP or public DNS to connect ec2 instance with pem file authentication. Click on connect to get the username for the instance to connect."
   ]
  },
  {
   "cell_type": "code",
   "execution_count": null,
   "metadata": {},
   "outputs": [],
   "source": []
  }
 ],
 "metadata": {
  "kernelspec": {
   "display_name": "Python 3",
   "language": "python",
   "name": "python3"
  },
  "language_info": {
   "codemirror_mode": {
    "name": "ipython",
    "version": 3
   },
   "file_extension": ".py",
   "mimetype": "text/x-python",
   "name": "python",
   "nbconvert_exporter": "python",
   "pygments_lexer": "ipython3",
   "version": "3.6.12"
  }
 },
 "nbformat": 4,
 "nbformat_minor": 4
}
