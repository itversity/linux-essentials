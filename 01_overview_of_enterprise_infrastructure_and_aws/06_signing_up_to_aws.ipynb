{
 "cells": [
  {
   "cell_type": "markdown",
   "metadata": {},
   "source": [
    "## Signing up to AWS\n",
    "\n",
    "AWS stands for Amazon Web Services. It is leading cloud platform where we can quickly provision Virtual Machines. Let us first understand how to sign up to the platform."
   ]
  },
  {
   "cell_type": "code",
   "execution_count": 1,
   "metadata": {
    "tags": [
     "remove-cell"
    ]
   },
   "outputs": [
    {
     "data": {
      "text/html": [
       "<iframe width=\"560\" height=\"315\" src=\"https://www.youtube.com/embed/rfj3TUqP7e8?rel=0&amp;controls=1&amp;showinfo=0\" frameborder=\"0\" allowfullscreen></iframe>\n"
      ],
      "text/plain": [
       "<IPython.core.display.HTML object>"
      ]
     },
     "metadata": {},
     "output_type": "display_data"
    }
   ],
   "source": [
    "%%HTML\n",
    "<iframe width=\"560\" height=\"315\" src=\"https://www.youtube.com/embed/rfj3TUqP7e8?rel=0&amp;controls=1&amp;showinfo=0\" frameborder=\"0\" allowfullscreen></iframe>"
   ]
  },
  {
   "cell_type": "markdown",
   "metadata": {},
   "source": [
    "* Creating an account is very simple just with a working email id is required.\n",
    "* It will ask for your credit card information, but you will not be charged.\n",
    "* You can get the alerts while any charges on your account.\n",
    "* An ec2(elastic compute cloud) is a virtual machine built on Aws data center.\n",
    "* There are different regions you have to handle them carefully.\n",
    "* You can use one of the quick start AMI(Amazon Machine Image), a better option is the free tier.\n",
    "* After selecting you will see the pricing, focus and be aware of the charge.\n",
    "* AWS marketplace is for any software engineer to create AMI images or templates.\n",
    "* AWS provide **t2.small** instance is free to use for 750 hours per month along 12 months.\n",
    "* Select all the options appropriately and launch after review.\n",
    "* Select an existing key pair and download it.\n",
    "* Secure the key pair even with the permissions to it.\n",
    "* Click on launch instances, it will create a virtual machine."
   ]
  }
 ],
 "metadata": {
  "kernelspec": {
   "display_name": "Python 3",
   "language": "python",
   "name": "python3"
  },
  "language_info": {
   "codemirror_mode": {
    "name": "ipython",
    "version": 3
   },
   "file_extension": ".py",
   "mimetype": "text/x-python",
   "name": "python",
   "nbconvert_exporter": "python",
   "pygments_lexer": "ipython3",
   "version": "3.6.12"
  }
 },
 "nbformat": 4,
 "nbformat_minor": 4
}
