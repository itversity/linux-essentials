{
 "cells": [
  {
   "cell_type": "markdown",
   "metadata": {},
   "source": [
    "## Managing Users\n",
    "Let us see how we can manage different user accounts created on the servers.\n"
   ]
  },
  {
   "cell_type": "markdown",
   "metadata": {},
   "source": [
    "In the enterprise level, System Administrator will take care of the permissions for the user depending upon the resource level. The administrator will give the permissions such as read write and execute for every user.\n",
    "You can add a user to the groups and you can add the password to the user by adding -p as shown below.\n",
    "  \n",
    "  \n",
    "  Usage: #useradd username -p\n",
    "                                          \n"
   ]
  }
 ],
 "metadata": {
  "kernelspec": {
   "display_name": "Python 3",
   "language": "python",
   "name": "python3"
  },
  "language_info": {
   "codemirror_mode": {
    "name": "ipython",
    "version": 3
   },
   "file_extension": ".py",
   "mimetype": "text/x-python",
   "name": "python",
   "nbconvert_exporter": "python",
   "pygments_lexer": "ipython3",
   "version": "3.6.12"
  }
 },
 "nbformat": 4,
 "nbformat_minor": 4
}
