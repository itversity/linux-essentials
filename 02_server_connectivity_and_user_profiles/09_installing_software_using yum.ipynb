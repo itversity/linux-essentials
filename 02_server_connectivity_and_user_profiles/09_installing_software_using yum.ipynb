{
 "cells": [
  {
   "cell_type": "markdown",
   "metadata": {},
   "source": [
    "## Installing Software using yum\n",
    "Let us understand how softwares can be downloaded and installed automatically using yum.\n"
   ]
  },
  {
   "cell_type": "markdown",
   "metadata": {},
   "source": [
    "Yum is the package manager available in the RedHat flavors which helps users to install, remove and manage the packages.\n",
    "You can use as follows.\n",
    "  \n",
    "  \n",
    "  Usage:#yum install  httpd\n"
   ]
  }
 ],
 "metadata": {
  "kernelspec": {
   "display_name": "Python 3",
   "language": "python",
   "name": "python3"
  },
  "language_info": {
   "codemirror_mode": {
    "name": "ipython",
    "version": 3
   },
   "file_extension": ".py",
   "mimetype": "text/x-python",
   "name": "python",
   "nbconvert_exporter": "python",
   "pygments_lexer": "ipython3",
   "version": "3.6.12"
  }
 },
 "nbformat": 4,
 "nbformat_minor": 4
}
