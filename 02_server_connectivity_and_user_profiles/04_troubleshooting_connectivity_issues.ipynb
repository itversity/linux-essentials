{
 "cells": [
  {
   "cell_type": "markdown",
   "metadata": {},
   "source": [
    "## Troubleshooting Connectivity Issues\n",
    "At times, we might not be able to connect to remote servers using SSH. If that is the case, let us understand how to troubleshoot the issues with respect to logging in using SSH.\n"
   ]
  },
  {
   "cell_type": "code",
   "execution_count": 2,
   "metadata": {
    "tags": [
     "remove-cell"
    ]
   },
   "outputs": [
    {
     "data": {
      "text/html": [
       "<iframe width=\"560\" height=\"315\" src=\"https://www.youtube.com/embed/h1lH_6Tfd00?rel=0&amp;controls=1&amp;showinfo=0\" frameborder=\"0\" allowfullscreen></iframe>\n"
      ],
      "text/plain": [
       "<IPython.core.display.HTML object>"
      ]
     },
     "metadata": {},
     "output_type": "display_data"
    }
   ],
   "source": [
    "%%HTML\n",
    "<iframe width=\"560\" height=\"315\" src=\"https://www.youtube.com/embed/h1lH_6Tfd00?rel=0&amp;controls=1&amp;showinfo=0\" frameborder=\"0\" allowfullscreen></iframe>"
   ]
  },
  {
   "cell_type": "markdown",
   "metadata": {},
   "source": [
    "### telnet\n",
    "Telnet is a protocol used for interactive communication with another host using the TELNET protocol.\n",
    "You can use #telnet to see the status of telnet and if it is working if will enter into a shell telnet>\n",
    "### ping\n",
    "If the ping is enabled in your server you can check the connectivity between your server and the remote server.\n",
    "  \n",
    "  \n",
    "  Usage:#ping\n",
    "You can check if the ping is working properly using ping ip address port number.\n",
    "### Firewall\n",
    "A firewall is a system that provides network security by filtering incoming and outgoing network traffic. Firewalls provide an essential layer of security that, combined with other measures, prevent attackers from accessing your servers in malicious ways.\n"
   ]
  }
 ],
 "metadata": {
  "kernelspec": {
   "display_name": "Python 3",
   "language": "python",
   "name": "python3"
  },
  "language_info": {
   "codemirror_mode": {
    "name": "ipython",
    "version": 3
   },
   "file_extension": ".py",
   "mimetype": "text/x-python",
   "name": "python",
   "nbconvert_exporter": "python",
   "pygments_lexer": "ipython3",
   "version": "3.6.12"
  }
 },
 "nbformat": 4,
 "nbformat_minor": 4
}
