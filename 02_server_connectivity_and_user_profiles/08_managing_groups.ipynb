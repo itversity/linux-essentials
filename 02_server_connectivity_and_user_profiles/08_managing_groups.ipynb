{
 "cells": [
  {
   "cell_type": "markdown",
   "metadata": {},
   "source": [
    "## Managing Groups\n",
    "Users can be grouped and we can control the permissions at group level. Let us understand how we can manage groups in Linux.\n"
   ]
  },
  {
   "cell_type": "markdown",
   "metadata": {},
   "source": [
    "The group is a logical consolidation of relevant users such as developers, system admins, and operations. Whenever you add a new user you will be assigning the candidate depending upon the group. You can use below example to create new groups.\n",
    "  \n",
    "  \n",
    "  Usage: #groupadd groupname\n",
    "You can add new users to the groups or we can modify the existing users by using below command.\n",
    "  \n",
    "  \n",
    "  Usage: #usermod\n",
    "#### Overview of root and sudoers\n",
    "root is super user in Linux. root have all the access on the server. Let us understand more about root and how other accounts can act as root.\n",
    "In Linux, There are two types of users such as Root user or superuser and the normal user. A wheel is a group which has sudo permissions by default in RedHat flavor. You can add a normal user using #user add with a password using # passwd\n",
    "username then run #visudo and edit the /etc/sudoers file. You can see the wheel group in this file and whoever is added to this wheel group can use the sudoer permission on this server. You can add the users using the below commands.\n",
    "  \n",
    "  \n",
    "  usage: # usermod -a -G wheel username\n"
   ]
  }
 ],
 "metadata": {
  "kernelspec": {
   "display_name": "Python 3",
   "language": "python",
   "name": "python3"
  },
  "language_info": {
   "codemirror_mode": {
    "name": "ipython",
    "version": 3
   },
   "file_extension": ".py",
   "mimetype": "text/x-python",
   "name": "python",
   "nbconvert_exporter": "python",
   "pygments_lexer": "ipython3",
   "version": "3.6.12"
  }
 },
 "nbformat": 4,
 "nbformat_minor": 4
}
