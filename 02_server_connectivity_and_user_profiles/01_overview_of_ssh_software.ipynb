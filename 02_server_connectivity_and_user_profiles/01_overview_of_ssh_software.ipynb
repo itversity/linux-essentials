{
 "cells": [
  {
   "cell_type": "markdown",
   "metadata": {},
   "source": [
    "## Overview of SSH Software\n",
    "SSH is primarily used to connect to servers remotely from any where. Let us get the high level overview of SSH.\n"
   ]
  },
  {
   "cell_type": "code",
   "execution_count": 1,
   "metadata": {
    "tags": [
     "remove-cell"
    ]
   },
   "outputs": [
    {
     "data": {
      "text/html": [
       "<iframe width=\"560\" height=\"315\" src=\"https://www.youtube.com/embed/LIwsvDr01kk?rel=0&amp;controls=1&amp;showinfo=0\" frameborder=\"0\" allowfullscreen></iframe>\n"
      ],
      "text/plain": [
       "<IPython.core.display.HTML object>"
      ]
     },
     "metadata": {},
     "output_type": "display_data"
    }
   ],
   "source": [
    "%%HTML\n",
    "<iframe width=\"560\" height=\"315\" src=\"https://www.youtube.com/embed/LIwsvDr01kk?rel=0&amp;controls=1&amp;showinfo=0\" frameborder=\"0\" allowfullscreen></iframe>"
   ]
  },
  {
   "cell_type": "markdown",
   "metadata": {},
   "source": [
    "* SSH is also known as Secure Socket Shell, it is a network protocol which helps administrators to connect remote servers.\n",
    "* SSH is not only used for login but also to copy files using commands or tools like scp, rsync etc.\n",
    "* We can use the command like ssh username@hostname to connect to remote servers. \n",
    "* To connect to remote server using SSH, sshd should be installed on the remote server.\n",
    "* Typically sshd will be setup, if in case it is not then the root user can login via console directly and install using tools like yum (Centos) or apt-get (Ubuntu)\n",
    "* Once ssh is setup, we need to ensure that it is up and running all the time. We need to start the service and enable as part of startup scripts.\n",
    "* If sshd is down, then we cannot connect to that remote server using ssh command. However some of the cloud platforms provide console access via plugins. We need to use it to fix the issue and start the service.\n",
    "* A sudoer can check the status of the process using commands like ps -ef|grep sshd or systemctl status sshd \n",
    "* Any process in linux is typically associated with port number. For ssh, it is by default 22.\n",
    "\n",
    "You can either connect to the remote server using a password or using keys."
   ]
  },
  {
   "cell_type": "code",
   "execution_count": null,
   "metadata": {},
   "outputs": [],
   "source": []
  }
 ],
 "metadata": {
  "kernelspec": {
   "display_name": "Python 3",
   "language": "python",
   "name": "python3"
  },
  "language_info": {
   "codemirror_mode": {
    "name": "ipython",
    "version": 3
   },
   "file_extension": ".py",
   "mimetype": "text/x-python",
   "name": "python",
   "nbconvert_exporter": "python",
   "pygments_lexer": "ipython3",
   "version": "3.6.12"
  }
 },
 "nbformat": 4,
 "nbformat_minor": 4
}
