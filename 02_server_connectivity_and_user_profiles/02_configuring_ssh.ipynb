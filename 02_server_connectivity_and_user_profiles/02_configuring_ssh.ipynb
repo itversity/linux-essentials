{
 "cells": [
  {
   "cell_type": "markdown",
   "metadata": {},
   "source": [
    "## Configuring SSH\n",
    "Let us understand how one can customize the behavior of SSH.\n"
   ]
  },
  {
   "cell_type": "code",
   "execution_count": 1,
   "metadata": {
    "tags": [
     "remove-cell"
    ]
   },
   "outputs": [
    {
     "data": {
      "text/html": [
       "<iframe width=\"560\" height=\"315\" src=\"https://www.youtube.com/embed/-kFqVOhPB-w?rel=0&amp;controls=1&amp;showinfo=0\" frameborder=\"0\" allowfullscreen></iframe>\n"
      ],
      "text/plain": [
       "<IPython.core.display.HTML object>"
      ]
     },
     "metadata": {},
     "output_type": "display_data"
    }
   ],
   "source": [
    "%%HTML\n",
    "<iframe width=\"560\" height=\"315\" src=\"https://www.youtube.com/embed/-kFqVOhPB-w?rel=0&amp;controls=1&amp;showinfo=0\" frameborder=\"0\" allowfullscreen></iframe>"
   ]
  },
  {
   "cell_type": "markdown",
   "metadata": {},
   "source": [
    "* In Linux, properties files are typically copied under /etc by default, for sshd it is /etc/ssh . \n",
    "* Actual properties file is /etc/ssh/sshd_config \n",
    "* sshd will be started on reboots as we typically add it to startup scripts using commands like systemctl enable sshd . \n",
    "* You must be a root user or sudoer to access the above commands.\n",
    "* From the client, we run ssh command to connect to this server (eg: ssh username@remoteserver)\n",
    "* Some of the important properties \n",
    "  * Port – port on which sshd should be running (default 22)\n",
    "  * ListenAddress – IP Binding (default 0.0.0.0). A server can have multiple ip addresses, if we want people to connect from clients to that server only with one of those ip addresses bound to the server, then we override with actual ip address (eg: letting people connect using private ip)\n",
    "  * PermitRootLogin – To enable or disable connecting to the server as root via ssh from clients of the server.\n",
    "  * PasswordAuthentication – To enable or disable connecting to the server using passwords. If disabled then admins have to use copy public key of the user who want to connect to the server. There are tools which can take care of these automatically.\n",
    "* If you change the properties of this sshd_config directory you must restart the service to update the changes. You can restart the service using `systemctl restart sshd`\n",
    "\n",
    "You can change the PermitRootLogin in the above file to avoid access to the root login.\n"
   ]
  },
  {
   "cell_type": "code",
   "execution_count": null,
   "metadata": {},
   "outputs": [],
   "source": []
  }
 ],
 "metadata": {
  "kernelspec": {
   "display_name": "Python 3",
   "language": "python",
   "name": "python3"
  },
  "language_info": {
   "codemirror_mode": {
    "name": "ipython",
    "version": 3
   },
   "file_extension": ".py",
   "mimetype": "text/x-python",
   "name": "python",
   "nbconvert_exporter": "python",
   "pygments_lexer": "ipython3",
   "version": "3.6.12"
  }
 },
 "nbformat": 4,
 "nbformat_minor": 4
}
