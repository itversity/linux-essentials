{
 "cells": [
  {
   "cell_type": "markdown",
   "metadata": {},
   "source": [
    "## Setup Passwordless login\n",
    "Let us understand how we can log in to remote servers without using Passwords. It is called as Passwordless login and is more secure than logging in using Passwords.\n"
   ]
  },
  {
   "cell_type": "code",
   "execution_count": 1,
   "metadata": {
    "tags": [
     "remove-cell"
    ]
   },
   "outputs": [
    {
     "data": {
      "text/html": [
       "<iframe width=\"560\" height=\"315\" src=\"https://www.youtube.com/embed/dNR72y9HOkA?rel=0&amp;controls=1&amp;showinfo=0\" frameborder=\"0\" allowfullscreen></iframe>\n"
      ],
      "text/plain": [
       "<IPython.core.display.HTML object>"
      ]
     },
     "metadata": {},
     "output_type": "display_data"
    }
   ],
   "source": [
    "%%HTML\n",
    "<iframe width=\"560\" height=\"315\" src=\"https://www.youtube.com/embed/dNR72y9HOkA?rel=0&amp;controls=1&amp;showinfo=0\" frameborder=\"0\" allowfullscreen></iframe>"
   ]
  },
  {
   "cell_type": "markdown",
   "metadata": {},
   "source": [
    "* You need to generate ssh keys (private and a public key) on your PC and copy contents of public key to the remote server to authorized_keys for the user using which you are trying to connect to remote server.\n",
    "* If you are using Mac or Linux, once you launch terminal you will be in the user’s home directory.\n",
    "* We can generate ssh keys using ssh-keygen \n",
    "* A private key should be on your PC and public key should be copied to the remote server (authorized_keys of the user using which you try to connect)\n",
    "* If you don’t give any names when it prompts for it, It will use id_rsa for private key and id_rsa.pub for the public key and the location would be your home directory.\n",
    "* Ensure that the directory under which we have these keys and keys them selves have no permissions for group or others (700 for directories and 600 for files)\n",
    "* ~ is the representation of your home directory in Unix flavors.\n"
   ]
  }
 ],
 "metadata": {
  "kernelspec": {
   "display_name": "Python 3",
   "language": "python",
   "name": "python3"
  },
  "language_info": {
   "codemirror_mode": {
    "name": "ipython",
    "version": 3
   },
   "file_extension": ".py",
   "mimetype": "text/x-python",
   "name": "python",
   "nbconvert_exporter": "python",
   "pygments_lexer": "ipython3",
   "version": "3.6.12"
  }
 },
 "nbformat": 4,
 "nbformat_minor": 4
}
